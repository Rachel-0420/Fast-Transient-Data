{
  "cells": [
    {
      "cell_type": "markdown",
      "metadata": {
        "id": "view-in-github",
        "colab_type": "text"
      },
      "source": [
        "<a href=\"https://colab.research.google.com/github/Rachel-0420/Fast-Transient-Data/blob/main/PrestoColor2-main/CombineCubes.ipynb\" target=\"_parent\"><img src=\"https://colab.research.google.com/assets/colab-badge.svg\" alt=\"Open In Colab\"/></a>"
      ]
    },
    {
      "cell_type": "code",
      "execution_count": 1,
      "id": "0582be07-6aa7-4661-b1ba-b3052b4a7d88",
      "metadata": {
        "id": "0582be07-6aa7-4661-b1ba-b3052b4a7d88",
        "outputId": "8a939dd0-dc96-4108-c98c-1f0704b357f0",
        "colab": {
          "base_uri": "https://localhost:8080/"
        }
      },
      "outputs": [
        {
          "output_type": "stream",
          "name": "stdout",
          "text": [
            "Cloning into 'Fast-Transient-Data'...\n",
            "remote: Enumerating objects: 39, done.\u001b[K\n",
            "remote: Counting objects: 100% (39/39), done.\u001b[K\n",
            "remote: Compressing objects: 100% (37/37), done.\u001b[K\n",
            "remote: Total 39 (delta 6), reused 0 (delta 0), pack-reused 0\u001b[K\n",
            "Receiving objects: 100% (39/39), 11.17 MiB | 6.16 MiB/s, done.\n",
            "Resolving deltas: 100% (6/6), done.\n"
          ]
        }
      ],
      "source": [
        "!git clone https://github.com/Rachel-0420/Fast-Transient-Data/"
      ]
    },
    {
      "cell_type": "code",
      "source": [
        "import numpy as np\n",
        "# import Functions\n",
        "import pickle\n",
        "import os\n",
        "from matplotlib.colors import LogNorm\n",
        "import time\n",
        "\n",
        "import matplotlib.pyplot as plt\n"
      ],
      "metadata": {
        "id": "SKUWYpxs4pjU"
      },
      "id": "SKUWYpxs4pjU",
      "execution_count": 3,
      "outputs": []
    },
    {
      "cell_type": "code",
      "source": [
        "from google.colab import drive\n",
        "drive.mount('/content/drive')"
      ],
      "metadata": {
        "id": "ojFI11H3XIvU",
        "outputId": "c5037126-489f-4b25-9dfc-e8cfeb4cbfb1",
        "colab": {
          "base_uri": "https://localhost:8080/"
        }
      },
      "id": "ojFI11H3XIvU",
      "execution_count": 4,
      "outputs": [
        {
          "output_type": "stream",
          "name": "stdout",
          "text": [
            "Mounted at /content/drive\n"
          ]
        }
      ]
    },
    {
      "cell_type": "code",
      "execution_count": 5,
      "id": "c2d7fc69-22f1-4bad-9989-1047e4ec8634",
      "metadata": {
        "id": "c2d7fc69-22f1-4bad-9989-1047e4ec8634"
      },
      "outputs": [],
      "source": [
        "EventNames = ['AGN', 'CART', 'EB', 'ILOT', 'KN_B19', 'KN_K17', 'MIRA', 'Mdwarf',\n",
        "              'PISN', 'RRL', 'SLSN-I', 'SNII-NMF', 'SNII-Templates', 'SNIIn',\n",
        "              'SNIa-91bg', 'SNIa-SALT2', 'SNIax', 'SNIbc-MOSFIT',\n",
        "              'SNIbc-Templates', 'TDE', 'V19_CC+HostXT', 'uLens-Binary',\n",
        "              'uLens-Single-GenLens', 'uLens-Single_PyLIMA']"
      ]
    },
    {
      "cell_type": "code",
      "execution_count": 20,
      "id": "22bcc5c2-6001-4d46-80d5-89dcc738ec44",
      "metadata": {
        "id": "22bcc5c2-6001-4d46-80d5-89dcc738ec44"
      },
      "outputs": [],
      "source": [
        "FolderPath =       '/content/drive/MyDrive/Datacubes/10k_Obj_28_BandPair_15min_dT1_220802'\n",
        "TargetFolderPath = '/content/drive/MyDrive/Datacubes/10k_Obj_28_BandPair_15min_dT1_220802'"
      ]
    },
    {
      "cell_type": "code",
      "execution_count": 21,
      "id": "9ffa32af-1645-4415-9094-32302da5b377",
      "metadata": {
        "id": "9ffa32af-1645-4415-9094-32302da5b377",
        "outputId": "9981bca7-e8bc-48a5-c15b-32002fa6dfa6",
        "colab": {
          "base_uri": "https://localhost:8080/"
        }
      },
      "outputs": [
        {
          "output_type": "execute_result",
          "data": {
            "text/plain": [
              "['ProbCube_0802_0821__AGN.pkl',\n",
              " 'ProbCube_0802_0822__CART.pkl',\n",
              " 'ProbCube_0802_0823__EB.pkl',\n",
              " 'ProbCube_0802_0823__ILOT.pkl',\n",
              " 'ProbCube_0802_0823__MIRA.pkl',\n",
              " 'ProbCube_0802_0824__Mdwarf.pkl',\n",
              " 'ProbCube_0802_0824__PISN.pkl',\n",
              " 'ProbCube_0802_0824__RRL.pkl',\n",
              " 'ProbCube_0802_0825__SLSN-I.pkl',\n",
              " 'ProbCube_0802_0826__SNII-NMF.pkl',\n",
              " 'ProbCube_0802_0827__SNII-Templates.pkl',\n",
              " 'ProbCube_0802_0828__SNIIn.pkl',\n",
              " 'ProbCube_0802_0829__SNIa-91bg.pkl',\n",
              " 'ProbCube_0802_0830__SNIa-SALT2.pkl',\n",
              " 'ProbCube_0802_0830__SNIax.pkl',\n",
              " 'ProbCube_0802_0830__SNIbc-MOSFIT.pkl',\n",
              " 'ProbCube_0802_0830__SNIbc-Templates.pkl',\n",
              " 'ProbCube_0802_0831__TDE.pkl',\n",
              " 'ProbCube_0802_0831__V19_CC+HostXT.pkl',\n",
              " 'ProbCube_0802_0831__uLens-Binary.pkl',\n",
              " 'ProbCube_0802_0831__uLens-Single-GenLens.pkl',\n",
              " 'ProbCube_0802_0832__uLens-Single_PyLIMA.pkl']"
            ]
          },
          "metadata": {},
          "execution_count": 21
        }
      ],
      "source": [
        "FileNames = os.listdir(FolderPath)\n",
        "FileNames.sort()\n",
        "\n",
        "if '.ipynb_checkpoints' in FileNames:\n",
        "    FileNames.remove('.ipynb_checkpoints')\n",
        "\n",
        "FileNames"
      ]
    },
    {
      "cell_type": "code",
      "execution_count": 25,
      "id": "5f8f0c4f-c646-45e8-a783-d5bec6205c06",
      "metadata": {
        "id": "5f8f0c4f-c646-45e8-a783-d5bec6205c06",
        "outputId": "101e28d3-72cd-4acf-cd2f-732dc122c42d",
        "colab": {
          "base_uri": "https://localhost:8080/",
          "height": 1000
        }
      },
      "outputs": [
        {
          "output_type": "execute_result",
          "data": {
            "text/plain": [
              "(-5.0, 8.0)"
            ]
          },
          "metadata": {},
          "execution_count": 25
        },
        {
          "output_type": "display_data",
          "data": {
            "text/plain": [
              "<Figure size 1500x1200 with 1 Axes>"
            ],
            "image/png": "[encoded data removed]"
          },
          "metadata": {}
        }
      ],
      "source": [
        "#If dMag and Color are not given, a 2-D array will be returned.\n",
        "fig, ax = plt.subplots(1, 1, figsize=(15, 12))\n",
        "\n",
        "Map = Enquiry(Cube, InfoDict, 'g', 'i', 480, 1440)\n",
        "plt.pcolor(InfoDict['BinMag'], InfoDict['BinColor'], np.transpose(Map)+1, edgecolors='face',\n",
        "           norm=LogNorm(1, vmax=Map.max()+1), cmap='gist_gray')\n",
        "plt.xlim([-1.5, 2])\n",
        "plt.ylim([-5, 8])\n",
        "# plt.axis('equal')"
      ]
    },
    {
      "cell_type": "code",
      "execution_count": 22,
      "id": "a22fcd33-869d-46c0-aa61-8a8a5d333da1",
      "metadata": {
        "id": "a22fcd33-869d-46c0-aa61-8a8a5d333da1",
        "outputId": "135fd8a4-e466-451b-e17e-862f169f7ca6",
        "colab": {
          "base_uri": "https://localhost:8080/",
          "height": 216
        }
      },
      "outputs": [
        {
          "output_type": "error",
          "ename": "OSError",
          "evalue": "[Errno 30] Read-only file system: '/content/drive/MyDrive/Datacubes/10k_Obj_28_BandPair_15min_dT1_220802/ProbCube_0701_1309__AGN.pkl'",
          "traceback": [
            "\u001b[0;31m---------------------------------------------------------------------------\u001b[0m",
            "\u001b[0;31mOSError\u001b[0m                                   Traceback (most recent call last)",
            "\u001b[0;32m<ipython-input-22-8afddaad4580>\u001b[0m in \u001b[0;36m<cell line: 1>\u001b[0;34m()\u001b[0m\n\u001b[1;32m     41\u001b[0m         \u001b[0mii\u001b[0m \u001b[0;34m+=\u001b[0m \u001b[0;36m1\u001b[0m\u001b[0;34m\u001b[0m\u001b[0;34m\u001b[0m\u001b[0m\n\u001b[1;32m     42\u001b[0m \u001b[0;34m\u001b[0m\u001b[0m\n\u001b[0;32m---> 43\u001b[0;31m     \u001b[0;32mwith\u001b[0m \u001b[0mopen\u001b[0m\u001b[0;34m(\u001b[0m\u001b[0mFilePath\u001b[0m\u001b[0;34m,\u001b[0m \u001b[0;34m'wb'\u001b[0m\u001b[0;34m)\u001b[0m \u001b[0;32mas\u001b[0m \u001b[0mf\u001b[0m\u001b[0;34m:\u001b[0m\u001b[0;34m\u001b[0m\u001b[0;34m\u001b[0m\u001b[0m\n\u001b[0m\u001b[1;32m     44\u001b[0m         \u001b[0mpickle\u001b[0m\u001b[0;34m.\u001b[0m\u001b[0mdump\u001b[0m\u001b[0;34m(\u001b[0m\u001b[0mInfoDict\u001b[0m\u001b[0;34m,\u001b[0m \u001b[0mf\u001b[0m\u001b[0;34m)\u001b[0m\u001b[0;34m\u001b[0m\u001b[0;34m\u001b[0m\u001b[0m\n\u001b[1;32m     45\u001b[0m         \u001b[0mpickle\u001b[0m\u001b[0;34m.\u001b[0m\u001b[0mdump\u001b[0m\u001b[0;34m(\u001b[0m\u001b[0mCube\u001b[0m\u001b[0;34m,\u001b[0m \u001b[0mf\u001b[0m \u001b[0;34m)\u001b[0m\u001b[0;34m\u001b[0m\u001b[0;34m\u001b[0m\u001b[0m\n",
            "\u001b[0;31mOSError\u001b[0m: [Errno 30] Read-only file system: '/content/drive/MyDrive/Datacubes/10k_Obj_28_BandPair_15min_dT1_220802/ProbCube_0701_1309__AGN.pkl'"
          ]
        }
      ],
      "source": [
        "for EventName in EventNames:\n",
        "\n",
        "    InfoDict = 0\n",
        "    Cube = 0\n",
        "\n",
        "    for FileName in FileNames:\n",
        "\n",
        "        if EventName not in FileName:\n",
        "            continue\n",
        "\n",
        "        FilePath = os.path.join(FolderPath, FileName)\n",
        "\n",
        "        if InfoDict == 0:\n",
        "\n",
        "            with open(FilePath, 'rb') as f:\n",
        "                InfoDict = pickle.load(f)\n",
        "                Cube = pickle.load(f)\n",
        "\n",
        "        else:\n",
        "            with open(FilePath, 'rb') as f:\n",
        "                infoDict = pickle.load(f)\n",
        "                Cube += pickle.load(f)\n",
        "\n",
        "                InfoDict['ObjectNo'] += infoDict['ObjectNo']\n",
        "                InfoDict['dMagRange'] = [ min( InfoDict['dMagRange'][0], infoDict['dMagRange'][0] ) , max( InfoDict['dMagRange'][1], infoDict['dMagRange'][1] ) ]\n",
        "                InfoDict['ColorRange'] = [ min( InfoDict['ColorRange'][0], infoDict['ColorRange'][0] ) , max( InfoDict['ColorRange'][1], infoDict['ColorRange'][1] ) ]\n",
        "                if 'StartObjNo' in InfoDict:\n",
        "                    InfoDict['StartObjNo'] = min(InfoDict['StartObjNo'], infoDict['StartObjNo'])\n",
        "\n",
        "    if InfoDict == 0:\n",
        "        continue\n",
        "\n",
        "    FileName = 'ProbCube_' + time.strftime('%m%d_%H%M') + '__' + EventName + '.pkl'\n",
        "\n",
        "    FilePath = os.path.join(TargetFolderPath, FileName)\n",
        "    FilePath0 = FilePath\n",
        "\n",
        "    ii = 1\n",
        "    while os.path.exists(FilePath):\n",
        "        FilePath = FilePath0[:-4] + '('+str(ii)+')' + '.pkl'\n",
        "        ii += 1\n",
        "\n",
        "    with open(FilePath, 'wb') as f:\n",
        "        pickle.dump(InfoDict, f)\n",
        "        pickle.dump(Cube, f )\n",
        "\n",
        "    print('|', end='')\n",
        "\n",
        "print('\\nFinish!')\n",
        "\n"
      ]
    },
    {
      "cell_type": "code",
      "execution_count": 23,
      "id": "735916b2-e649-409b-bab5-f827f80cfc3e",
      "metadata": {
        "id": "735916b2-e649-409b-bab5-f827f80cfc3e",
        "outputId": "6354a718-730a-4594-9313-24c3765281a3",
        "colab": {
          "base_uri": "https://localhost:8080/"
        }
      },
      "outputs": [
        {
          "output_type": "execute_result",
          "data": {
            "text/plain": [
              "{'EventName': 'AGN',\n",
              " 'PointsPerDay': 1,\n",
              " 'ObjectNo': 10000,\n",
              " 'StartObjNo': 0,\n",
              " 'BandPairs': ['ug',\n",
              "  'ur',\n",
              "  'ui',\n",
              "  'uz',\n",
              "  'gu',\n",
              "  'gr',\n",
              "  'gi',\n",
              "  'gz',\n",
              "  'gy',\n",
              "  'ru',\n",
              "  'rg',\n",
              "  'ri',\n",
              "  'rz',\n",
              "  'ry',\n",
              "  'iu',\n",
              "  'ig',\n",
              "  'ir',\n",
              "  'iz',\n",
              "  'iy',\n",
              "  'zu',\n",
              "  'zg',\n",
              "  'zr',\n",
              "  'zi',\n",
              "  'zy',\n",
              "  'yg',\n",
              "  'yr',\n",
              "  'yi',\n",
              "  'yz'],\n",
              " 'dT1s': array([-480, -465, -450, -435, -420, -405, -390, -375, -360, -345, -330,\n",
              "        -315, -300, -285, -270, -255, -240, -225, -210, -195, -180, -165,\n",
              "        -150, -135, -120, -105,  -90,  -75,  -60,  -45,  -30,  -15,    0,\n",
              "          15,   30,   45,   60,   75,   90,  105,  120,  135,  150,  165,\n",
              "         180,  195,  210,  225,  240,  255,  270,  285,  300,  315,  330,\n",
              "         345,  360,  375,  390,  405,  420,  435,  450,  465,  480]),\n",
              " 'dT2s': array([-1920, -1890, -1860, -1830, -1800, -1770, -1740, -1710, -1680,\n",
              "        -1650, -1620, -1590, -1560, -1530, -1500, -1470, -1440,  -480,\n",
              "         -450,  -420,  -390,  -360,  -330,  -300,  -270,  -240,  -210,\n",
              "         -180,  -150,  -120,   -90,   -60,   -30,     0,    30,    60,\n",
              "           90,   120,   150,   180,   210,   240,   270,   300,   330,\n",
              "          360,   390,   420,   450,   480,  1440,  1470,  1500,  1530,\n",
              "         1560,  1590,  1620,  1650,  1680,  1710,  1740,  1770,  1800,\n",
              "         1830,  1860,  1890,  1920]),\n",
              " 'BinMag': array([-5.05, -4.95, -4.85, -4.75, -4.65, -4.55, -4.45, -4.35, -4.25,\n",
              "        -4.15, -4.05, -3.95, -3.85, -3.75, -3.65, -3.55, -3.45, -3.35,\n",
              "        -3.25, -3.15, -3.05, -2.95, -2.85, -2.75, -2.65, -2.55, -2.45,\n",
              "        -2.35, -2.25, -2.15, -2.05, -1.95, -1.85, -1.75, -1.65, -1.55,\n",
              "        -1.45, -1.35, -1.25, -1.15, -1.05, -0.95, -0.85, -0.75, -0.65,\n",
              "        -0.55, -0.45, -0.35, -0.25, -0.15, -0.05,  0.05,  0.15,  0.25,\n",
              "         0.35,  0.45,  0.55,  0.65,  0.75,  0.85,  0.95,  1.05,  1.15,\n",
              "         1.25,  1.35,  1.45,  1.55,  1.65,  1.75,  1.85,  1.95,  2.05,\n",
              "         2.15,  2.25,  2.35,  2.45,  2.55,  2.65,  2.75,  2.85,  2.95,\n",
              "         3.05,  3.15,  3.25,  3.35,  3.45,  3.55,  3.65,  3.75,  3.85,\n",
              "         3.95,  4.05,  4.15,  4.25,  4.35,  4.45,  4.55,  4.65,  4.75,\n",
              "         4.85,  4.95,  5.05,  5.15,  5.25,  5.35,  5.45,  5.55,  5.65,\n",
              "         5.75,  5.85,  5.95]),\n",
              " 'BinColor': array([-9.25, -8.75, -8.25, -7.75, -7.25, -6.75, -6.25, -5.75, -5.25,\n",
              "        -4.75, -4.25, -3.75, -3.25, -2.75, -2.25, -1.75, -1.25, -0.75,\n",
              "        -0.25,  0.25,  0.75,  1.25,  1.75,  2.25,  2.75,  3.25,  3.75,\n",
              "         4.25,  4.75,  5.25,  5.75,  6.25,  6.75,  7.25,  7.75,  8.25,\n",
              "         8.75,  9.25,  9.75]),\n",
              " 'dMagRange': [-0.7405751546237447, 0.787968953451955],\n",
              " 'ColorRange': [-2.8854161619620697, 2.885318883048985],\n",
              " 'TimePairs': array([[ -480, -1920],\n",
              "        [ -480, -1890],\n",
              "        [ -480, -1860],\n",
              "        ...,\n",
              "        [  480,  1860],\n",
              "        [  480,  1890],\n",
              "        [  480,  1920]])}"
            ]
          },
          "metadata": {},
          "execution_count": 23
        }
      ],
      "source": [
        "InfoDict"
      ]
    },
    {
      "cell_type": "code",
      "execution_count": null,
      "id": "9e3ed1b5-cdc3-4ba3-b8e4-d4d6769f8a67",
      "metadata": {
        "id": "9e3ed1b5-cdc3-4ba3-b8e4-d4d6769f8a67",
        "outputId": "df72c191-5910-4ad0-fd39-c59b063fbbcd"
      },
      "outputs": [
        {
          "data": {
            "text/plain": [
              "{'EventName': 'PISN',\n",
              " 'PointsPerDay': 1,\n",
              " 'ObjectNo': 10000,\n",
              " 'BandPairs': ['ug',\n",
              "  'ur',\n",
              "  'ui',\n",
              "  'uz',\n",
              "  'gu',\n",
              "  'gr',\n",
              "  'gi',\n",
              "  'gz',\n",
              "  'gy',\n",
              "  'ru',\n",
              "  'rg',\n",
              "  'ri',\n",
              "  'rz',\n",
              "  'ry',\n",
              "  'iu',\n",
              "  'ig',\n",
              "  'ir',\n",
              "  'iz',\n",
              "  'iy',\n",
              "  'zu',\n",
              "  'zg',\n",
              "  'zr',\n",
              "  'zi',\n",
              "  'zy',\n",
              "  'yg',\n",
              "  'yr',\n",
              "  'yi',\n",
              "  'yz'],\n",
              " 'dT1s': array([-480, -465, -450, -435, -420, -405, -390, -375, -360, -345, -330,\n",
              "        -315, -300, -285, -270, -255, -240, -225, -210, -195, -180, -165,\n",
              "        -150, -135, -120, -105,  -90,  -75,  -60,  -45,  -30,  -15,    0,\n",
              "          15,   30,   45,   60,   75,   90,  105,  120,  135,  150,  165,\n",
              "         180,  195,  210,  225,  240,  255,  270,  285,  300,  315,  330,\n",
              "         345,  360,  375,  390,  405,  420,  435,  450,  465,  480]),\n",
              " 'dT2s': array([-1920, -1890, -1860, -1830, -1800, -1770, -1740, -1710, -1680,\n",
              "        -1650, -1620, -1590, -1560, -1530, -1500, -1470, -1440,  -480,\n",
              "         -450,  -420,  -390,  -360,  -330,  -300,  -270,  -240,  -210,\n",
              "         -180,  -150,  -120,   -90,   -60,   -30,     0,    30,    60,\n",
              "           90,   120,   150,   180,   210,   240,   270,   300,   330,\n",
              "          360,   390,   420,   450,   480,  1440,  1470,  1500,  1530,\n",
              "         1560,  1590,  1620,  1650,  1680,  1710,  1740,  1770,  1800,\n",
              "         1830,  1860,  1890,  1920]),\n",
              " 'BinMag': array([-5.05, -4.95, -4.85, -4.75, -4.65, -4.55, -4.45, -4.35, -4.25,\n",
              "        -4.15, -4.05, -3.95, -3.85, -3.75, -3.65, -3.55, -3.45, -3.35,\n",
              "        -3.25, -3.15, -3.05, -2.95, -2.85, -2.75, -2.65, -2.55, -2.45,\n",
              "        -2.35, -2.25, -2.15, -2.05, -1.95, -1.85, -1.75, -1.65, -1.55,\n",
              "        -1.45, -1.35, -1.25, -1.15, -1.05, -0.95, -0.85, -0.75, -0.65,\n",
              "        -0.55, -0.45, -0.35, -0.25, -0.15, -0.05,  0.05,  0.15,  0.25,\n",
              "         0.35,  0.45,  0.55,  0.65,  0.75,  0.85,  0.95,  1.05,  1.15,\n",
              "         1.25,  1.35,  1.45,  1.55,  1.65,  1.75,  1.85,  1.95,  2.05,\n",
              "         2.15,  2.25,  2.35,  2.45,  2.55,  2.65,  2.75,  2.85,  2.95,\n",
              "         3.05,  3.15,  3.25,  3.35,  3.45,  3.55,  3.65,  3.75,  3.85,\n",
              "         3.95,  4.05,  4.15,  4.25,  4.35,  4.45,  4.55,  4.65,  4.75,\n",
              "         4.85,  4.95,  5.05,  5.15,  5.25,  5.35,  5.45,  5.55,  5.65,\n",
              "         5.75,  5.85,  5.95]),\n",
              " 'BinColor': array([-9.25, -8.75, -8.25, -7.75, -7.25, -6.75, -6.25, -5.75, -5.25,\n",
              "        -4.75, -4.25, -3.75, -3.25, -2.75, -2.25, -1.75, -1.25, -0.75,\n",
              "        -0.25,  0.25,  0.75,  1.25,  1.75,  2.25,  2.75,  3.25,  3.75,\n",
              "         4.25,  4.75,  5.25,  5.75,  6.25,  6.75,  7.25,  7.75,  8.25,\n",
              "         8.75,  9.25,  9.75]),\n",
              " 'dMagRange': [-0.1292272659794378, 0.49410120646248856],\n",
              " 'ColorRange': [-8.276923659421968, 8.208585728720896],\n",
              " 'TimePairs': array([[ -480, -1920],\n",
              "        [ -480, -1890],\n",
              "        [ -480, -1860],\n",
              "        ...,\n",
              "        [  480,  1860],\n",
              "        [  480,  1890],\n",
              "        [  480,  1920]])}"
            ]
          },
          "execution_count": 31,
          "metadata": {},
          "output_type": "execute_result"
        }
      ],
      "source": [
        "InfoDict"
      ]
    },
    {
      "cell_type": "code",
      "execution_count": 24,
      "id": "73981259-1504-48aa-9f6a-3120b1cbcfef",
      "metadata": {
        "id": "73981259-1504-48aa-9f6a-3120b1cbcfef"
      },
      "outputs": [],
      "source": [
        "def Enquiry(HashTable, InfoDict, Band1, Band2, dT1, dT2, dMag=None, Color=None):\n",
        "\n",
        "    if abs(dT1) > abs(dT1-dT2):\n",
        "        dT1, dT2 = dT1-dT2, -dT2\n",
        "\n",
        "    Ind1 = InfoDict['BandPairs'].index(Band1+Band2)\n",
        "\n",
        "    dT1grid = InfoDict['dT1s'][ abs( dT1 - InfoDict['dT1s'] ).argmin() ]\n",
        "    dT2grid = InfoDict['dT2s'][ abs( dT2 - InfoDict['dT2s'] ).argmin() ]\n",
        "\n",
        "    TimePairGrid = [ InfoDict['dT1s'][ abs( dT1 - InfoDict['dT1s'] ).argmin() ], InfoDict['dT2s'][ abs( dT2 - InfoDict['dT2s'] ).argmin() ] ]\n",
        "\n",
        "    Ind2 = np.where( (InfoDict['TimePairs'] == TimePairGrid ).all(axis=1) )[0][0]\n",
        "\n",
        "    Results = HashTable[Ind1, Ind2]\n",
        "\n",
        "    if dMag == None:\n",
        "        pass\n",
        "    elif dMag<InfoDict['BinMag'][0] or dMag>=InfoDict['BinMag'][-1]:\n",
        "        raise ValueError('The value of dMag is out of boundary, the available interval is [{:.2f}, {:.2f}).'.format(InfoDict['BinMag'][0], InfoDict['BinMag'][-1]))\n",
        "    else:\n",
        "        Results = Results[np.where( dMag >= InfoDict['BinMag'] )[0][-1]]\n",
        "\n",
        "    if Color == None:\n",
        "        pass\n",
        "    elif Color<InfoDict['BinColor'][0] or Color>=InfoDict['BinColor'][-1]:\n",
        "        raise ValueError('The value of Color is out of boundary, the available interval is [{:.2f}, {:.2f}).'.format(InfoDict['BinColor'][0], InfoDict['BinColor'][-1]))\n",
        "\n",
        "    else:\n",
        "        Results = Results[..., np.where( Color >= InfoDict['BinColor'] )[0][-1] ]\n",
        "\n",
        "    return Results"
      ]
    },
    {
      "cell_type": "code",
      "execution_count": null,
      "id": "1c0d0bd7-6ff8-447d-be98-6724ba613b6a",
      "metadata": {
        "id": "1c0d0bd7-6ff8-447d-be98-6724ba613b6a"
      },
      "outputs": [],
      "source": []
    },
    {
      "cell_type": "code",
      "execution_count": null,
      "id": "e1b2575a-4d80-44bd-972c-b9a7afe00e0c",
      "metadata": {
        "id": "e1b2575a-4d80-44bd-972c-b9a7afe00e0c"
      },
      "outputs": [],
      "source": []
    },
    {
      "cell_type": "code",
      "execution_count": null,
      "id": "c39d8a32-9602-47de-b78a-264912765d3f",
      "metadata": {
        "id": "c39d8a32-9602-47de-b78a-264912765d3f"
      },
      "outputs": [],
      "source": []
    },
    {
      "cell_type": "code",
      "execution_count": null,
      "id": "7ef40cb9-c5a2-4e84-99dd-cf1fa8baed61",
      "metadata": {
        "id": "7ef40cb9-c5a2-4e84-99dd-cf1fa8baed61"
      },
      "outputs": [],
      "source": [
        "dT1s = np.arange(-480, 481, 15)\n",
        "dT2s = np.hstack(( np.arange(-1920, -1439, 30), np.arange(-480, 481, 30), np.arange(1440, 1921, 30) ))"
      ]
    },
    {
      "cell_type": "code",
      "execution_count": null,
      "id": "d209b3c8-8689-4621-8692-ada802991b8c",
      "metadata": {
        "id": "d209b3c8-8689-4621-8692-ada802991b8c"
      },
      "outputs": [],
      "source": [
        "dT1s = np.arange(60, 120, 15)\n",
        "dT2s = np.arange(450, 510, 15)"
      ]
    },
    {
      "cell_type": "code",
      "execution_count": null,
      "id": "69f1243c-1981-4977-9003-e818f882c381",
      "metadata": {
        "id": "69f1243c-1981-4977-9003-e818f882c381"
      },
      "outputs": [],
      "source": [
        "TimePairs = [ [ii, jj] for ii in dT1s for jj in dT2s if abs(ii) <= abs(ii-jj) ]"
      ]
    },
    {
      "cell_type": "code",
      "execution_count": null,
      "id": "1c4ded4e-3089-422a-aa8b-9cde82f2f1fa",
      "metadata": {
        "id": "1c4ded4e-3089-422a-aa8b-9cde82f2f1fa",
        "outputId": "5bd2af2b-b0b7-4f2b-fbd6-4f04462db415"
      },
      "outputs": [
        {
          "data": {
            "text/plain": [
              "16"
            ]
          },
          "execution_count": 32,
          "metadata": {},
          "output_type": "execute_result"
        }
      ],
      "source": [
        "len(TimePairs)"
      ]
    },
    {
      "cell_type": "code",
      "execution_count": null,
      "id": "eb82427f-4bfe-4dad-90d8-3abbc8dc868a",
      "metadata": {
        "id": "eb82427f-4bfe-4dad-90d8-3abbc8dc868a"
      },
      "outputs": [],
      "source": []
    }
  ],
  "metadata": {
    "kernelspec": {
      "display_name": "NERSC Python",
      "language": "python",
      "name": "python3"
    },
    "language_info": {
      "codemirror_mode": {
        "name": "ipython",
        "version": 3
      },
      "file_extension": ".py",
      "mimetype": "text/x-python",
      "name": "python",
      "nbconvert_exporter": "python",
      "pygments_lexer": "ipython3",
      "version": "3.9.7"
    },
    "colab": {
      "provenance": [],
      "include_colab_link": true
    }
  },
  "nbformat": 4,
  "nbformat_minor": 5
}